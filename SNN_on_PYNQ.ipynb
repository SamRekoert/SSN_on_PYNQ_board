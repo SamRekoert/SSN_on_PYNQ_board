{
  "nbformat": 4,
  "nbformat_minor": 0,
  "metadata": {
    "colab": {
      "provenance": []
    },
    "kernelspec": {
      "name": "python3",
      "display_name": "Python 3"
    },
    "language_info": {
      "name": "python"
    }
  },
  "cells": [
    {
      "cell_type": "code",
      "execution_count": null,
      "metadata": {
        "id": "VQyKEOhYiCxv"
      },
      "outputs": [],
      "source": [
        "from pynq import Overlay\n",
        "import timeit\n",
        "\n",
        "ov = Overlay('slif_loop.bit')\n",
        "ov.ip_dict\n",
        "\n",
        "slif_ip = ov.slif_0\n",
        "slif_ip.register_map"
      ]
    },
    {
      "cell_type": "markdown",
      "source": [
        "The following slif function reads and writes to the FPGA every loop.\n",
        "This works but is very slow."
      ],
      "metadata": {
        "id": "kax8R5bmiNiP"
      }
    },
    {
      "cell_type": "code",
      "source": [
        "def slif_slow():\n",
        "    slif_ip.register_map.state_in = 1\n",
        "    slif_ip.register_map.counter_in = 1\n",
        "    slif_ip.register_map.in_c = 1\n",
        "    state = 1\n",
        "    counter = 1\n",
        "    spike = 0\n",
        "\n",
        "    for i in range(0, 5000):\n",
        "\n",
        "        counter = slif_ip.register_map.counter_out_o\n",
        "        state = slif_ip.register_map.state_out_o\n",
        "        spike = slif_ip.register_map.spike\n",
        "        if int(spike) == 1:\n",
        "            print(i)\n",
        "        slif_ip.register_map.state_in = int(state)\n",
        "        slif_ip.register_map.counter_in = int(counter)\n",
        "\n",
        "n = 1\n",
        "result = timeit.timeit(stmt='slif_slow()', globals=globals(), number=n)\n",
        "print(f\"Execution time is {result / n} seconds\")\n",
        "\n",
        "#output: Execution time is 1.5996724780000022 seconds"
      ],
      "metadata": {
        "id": "DfJAox-ZiQJ1"
      },
      "execution_count": null,
      "outputs": []
    },
    {
      "cell_type": "markdown",
      "source": [
        "The following slif function does the looping on the FPGA.\n",
        "This causes problems, because it won't update the states at the end in the HLS code."
      ],
      "metadata": {
        "id": "HXbCegBxiXtc"
      }
    },
    {
      "cell_type": "code",
      "source": [
        "def slif_fast():\n",
        "    for i in range(0, 1):\n",
        "        slif_ip.register_map.state_in = 0\n",
        "        slif_ip.register_map.counter_in = 0\n",
        "        slif_ip.register_map.in_c = 1\n",
        "        slif_ip.register_map.loops = 1000\n",
        "\n",
        "        counter = slif_ip.register_map.counter_out_o\n",
        "        state = slif_ip.register_map.state_out_o\n",
        "        spike = slif_ip.register_map.spike\n",
        "        if int(spike)==1: print(spike)\n",
        "\n",
        "result = timeit.timeit(stmt='slif_fast()', globals=globals(), number=n)\n",
        "print(f\"Execution time is {result / n} seconds\")"
      ],
      "metadata": {
        "id": "zaXkqriYilci"
      },
      "execution_count": null,
      "outputs": []
    },
    {
      "cell_type": "markdown",
      "source": [
        "The following two function are the SLIF neuron without FPGA, which currently\n",
        "performs faster than the FPGA version."
      ],
      "metadata": {
        "id": "4YtDSyTIioQE"
      }
    },
    {
      "cell_type": "code",
      "source": [
        "def slif_python(state_in, counter_in, in_c, spike):\n",
        "    match state_in:\n",
        "        case 0:\n",
        "            if (1024 == counter_in):\n",
        "                state_in = 1\n",
        "                counter_in = 0\n",
        "            else:\n",
        "                state_in = state_in + 1\n",
        "        case 1:\n",
        "            if (1024 == counter_in):\n",
        "                spike = 1\n",
        "                state_in = 2\n",
        "                counter_in = 0\n",
        "            elif (1 == in_c):\n",
        "                counter_in = counter_in + 1\n",
        "            elif (counter_in != 0):\n",
        "                counter_in = counter_in - 1\n",
        "        case 2:\n",
        "            spike = 0\n",
        "            state_in = 0\n",
        "        case _:\n",
        "            spike = 0\n",
        "            state_in = 1\n",
        "            counter_in = 0\n",
        "    return spike, state_in, counter_in\n",
        "\n",
        "def run_slif_python():\n",
        "    state_in = 1\n",
        "    counter_in = 1\n",
        "    in_c = 1\n",
        "    spike = 0\n",
        "\n",
        "    for i in range(0, 5000):\n",
        "        spike, state_in, counter_in = slif_python(state_in, counter_in, in_c, spike)\n",
        "        if spike == 1: print(i)\n",
        "\n",
        "result = timeit.timeit(stmt='run_slif_python()', globals=globals(), number=n)\n",
        "print(f\"Execution time is {result / n} seconds\")\n",
        "\n",
        "#Output: Execution time is 0.028009291999978814 seconds"
      ],
      "metadata": {
        "id": "XNY18HONipwG"
      },
      "execution_count": null,
      "outputs": []
    },
    {
      "cell_type": "code",
      "source": [],
      "metadata": {
        "id": "sFtmwQMLithW"
      },
      "execution_count": null,
      "outputs": []
    }
  ]
}